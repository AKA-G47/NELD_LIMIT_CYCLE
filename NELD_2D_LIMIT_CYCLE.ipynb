{
  "nbformat": 4,
  "nbformat_minor": 0,
  "metadata": {
    "colab": {
      "provenance": []
    },
    "kernelspec": {
      "name": "python3",
      "display_name": "Python 3"
    },
    "language_info": {
      "name": "python"
    }
  },
  "cells": [
    {
      "cell_type": "code",
      "source": [
        "import numpy as np\n",
        "import numpy as np  \n",
        "from scipy.linalg import expm\n",
        "import time \n",
        "np.random.seed(0)\n",
        "\n",
        "\n",
        "def Parameter(flow, epsilon, nPart, rcut, N, Nperiod): \n",
        "\n",
        "    if nPart < 2:\n",
        "        raise ValueError(\"The number of particles is invalid\")\n",
        "\n",
        "\n",
        "    if flow == 'eld':\n",
        "        if nPart <= 2:\n",
        "            a = 10\n",
        "        else:\n",
        "            a = 2*nPart\n",
        "        A = np.array([[0,0,0],[0,0,0],[0,0,0]])\n",
        "        invL0 = np.eye(3)/a\n",
        "        Y = A\n",
        "        Yoff = np.zeros((3,3))\n",
        "        Sigma = 1\n",
        "    elif flow == 'shear':\n",
        "        # Shear flow case with LE\n",
        "        if nPart <= 2:\n",
        "            a = 10\n",
        "        else:\n",
        "            a = 2*nPart\n",
        "        A = epsilon * np.array([[0, 1, 0], [0, 0, 0], [0, 0, 0]])\n",
        "        invL0 = np.eye(3) / a\n",
        "        Y = A\n",
        "        Yoff = np.zeros((3, 3))\n",
        "        theta = 1\n",
        "        Sigma = 1\n",
        "    elif flow == 'pef':\n",
        "        # PEF case with KR\n",
        "        if nPart <= 2:\n",
        "            a = 20\n",
        "        else:\n",
        "            a = 2*nPart\n",
        "\n",
        "        A = epsilon * np.array([[-1, 0, 0], [0, 1, 0], [0, 0, 0]])\n",
        "        M = np.array([[2, -1, 0], [-1, 1, 0], [0, 0, 1]])\n",
        "        _,V = np.linalg.eig(M)\n",
        "        V = V[:, [1, 0, 2]]\n",
        "        Y = np.log(np.diag(np.dot(np.dot(np.linalg.inv(V), M), V)))\n",
        "        Yoff = np.zeros((3, 3))\n",
        "        invL0 = V / np.abs(np.linalg.det(V)) ** (1/2) / a\n",
        "        theta = 1 \n",
        "        Sigma = epsilon/Y[0] \n",
        "\n",
        "    T = 1 / np.abs(Sigma)\n",
        "    pbc = {}\n",
        "\n",
        "    pbc['L0inv'] = invL0\n",
        "    pbc['L0'] = np.linalg.inv(invL0)\n",
        "    pbc['Linv'] = pbc['L0inv']\n",
        "    pbc['L'] = pbc['L0']\n",
        "    pbc['A'] = A\n",
        "    pbc['Y'] = Y\n",
        "    pbc['Yoff'] = Yoff\n",
        "    pbc['Sigma'] = Sigma\n",
        "    pbc['T'] = 1/abs(Sigma)\n",
        "    pbc['theta'] = 0\n",
        "    pbc['theta1'] = 0\n",
        "    pbc['n'] = 0\n",
        "    pbc['dt'] = pbc['T'] / N\n",
        "    pbc['N'] = N\n",
        "    pbc['Nperiod'] = Nperiod\n",
        "    pbc['flow'] = flow\n",
        "\n",
        "    part = {}\n",
        "\n",
        "\n",
        "    part['q'] = np.zeros((3,nPart))\n",
        "    part['qDist'] = np.zeros((3,nPart))\n",
        "    part['p'] = np.zeros((3,nPart))\n",
        "    part['p'][2,:nPart] = np.zeros(nPart)\n",
        "    part['f'] = np.zeros((3,nPart))\n",
        "    part['ff'] = np.zeros(1)\n",
        "    part['G'] = np.zeros((3,nPart))\n",
        "\n",
        "    sav = {}\n",
        "\n",
        "    sav['Q1'] = np.zeros((N,Nperiod))\n",
        "    sav['Q2'] = np.zeros((N,Nperiod))\n",
        "    sav['F'] = np.zeros((N,Nperiod))\n",
        "\n",
        "           \n",
        "    dim = A.shape[0]-1\n",
        "\n",
        "    param = {}\n",
        "\n",
        "    param['sigm'] = 4\n",
        "    param['eps'] = 1\n",
        "    param['rcut'] = rcut\n",
        "    param['dim'] = dim\n",
        "    param['gamma'] = 0.1\n",
        "    param['beta'] = 1\n",
        "    param['a'] = a\n",
        "    param['nPart'] = nPart\n",
        "    param['Mmax'] = int(np.ceil(a/rcut*nPart))\n",
        "    param['vol'] = a**3 * nPart\n",
        "\n",
        "    Clist_Mmax = int(np.floor(a*dim/param['rcut']))\n",
        "    Clist_head = np.zeros((param['Mmax']**3,1))\n",
        "    Clist_list = np.zeros((nPart,1))\n",
        "    Clist_mc = np.zeros((1,3))\n",
        "    Clist_da = np.zeros((1,3))\n",
        "    Clist_nL = np.zeros((1,3))\n",
        "    Clist_c = np.zeros((1))\n",
        "    Clist_lc = np.zeros((1,3))\n",
        "    Clist_region = np.zeros((1,3))\n",
        "    Clist_M = np.zeros((1,3))\n",
        "\n",
        "    Clist = {'Mmax': Clist_Mmax, \n",
        "            'head': Clist_head, \n",
        "            'list': Clist_list, \n",
        "            'mc': Clist_mc, \n",
        "            'da': Clist_da, \n",
        "            'nL': Clist_nL, \n",
        "            'c': Clist_c, \n",
        "            'lc': Clist_lc, \n",
        "            'region': Clist_region, \n",
        "            'M': Clist_M}\n",
        "    return pbc, param, Clist, part, sav\n",
        "\n",
        "\n",
        "def MyRound(x):\n",
        "  return x - np.round(x) "
      ],
      "metadata": {
        "id": "TYJsMcCfQQCJ"
      },
      "execution_count": 2,
      "outputs": []
    },
    {
      "cell_type": "code",
      "source": [
        "import numpy as np\n",
        "\n",
        "def initializez(X, param, pbc):\n",
        "    if param['dim'] == 3:\n",
        "        ll = 0\n",
        "        for l in range(param['nPart']):\n",
        "            i = l+1\n",
        "            j = i+1\n",
        "            X.q[:,ll] = [(0.5 + i-0.5*param['nPart'])/param['nPart'],\n",
        "                         (0.5 + j-0.5*param['nPart'])/param['nPart'],\n",
        "                         (0.5 + l-0.5*param['nPart'])/param['nPart']]\n",
        "            ll += 1\n",
        "    else:\n",
        "        ll = 0\n",
        "        for l in range(param['nPart']):\n",
        "            j = l+1\n",
        "            X['q'][:,ll] = [(0.5 + l-0.5*param['nPart'])/param['nPart'],\n",
        "                         (0.5 + j-0.5*param['nPart'])/param['nPart'],\n",
        "                         0]\n",
        "            ll += 1\n",
        "             \n",
        "    X['q'] = np.dot(pbc['L'], X['q'])\n",
        "    X['q'][0:param['dim'],:] = X['q'][0:param['dim'],:] + 0.05 * np.random.randn(param['dim'], param['nPart'])\n",
        "    X['p'] = np.dot(pbc['A'], X['q'])\n",
        "    X['p'][0:param['dim'],:] = X['p'][0:param['dim'],:] + np.sqrt(1/param['beta']) * np.random.randn(param['dim'], param['nPart'])\n",
        "    return X\n"
      ],
      "metadata": {
        "id": "TFSTgcyeMc4h"
      },
      "execution_count": 3,
      "outputs": []
    },
    {
      "cell_type": "code",
      "source": [
        " \n",
        "def hist2(x, y, xedges, yedges):\n",
        "    if x.shape != y.shape:\n",
        "        raise ValueError(\"The size of the two first input vectors should be the same!\")\n",
        "    xbin = np.digitize(x, xedges)\n",
        "    ybin = np.digitize(y, yedges)\n",
        "    xbin = xbin.astype(int)\n",
        "    ybin = ybin.astype(int)\n",
        "    xbin[xbin == 0] = 10**16 #np.inf\n",
        "    ybin[ybin == 0] = 10**16 #np.inf\n",
        "    xnbin = len(xedges)\n",
        "    ynbin = len(yedges)\n",
        "    if xnbin >= ynbin:\n",
        "        xy = ybin*(xnbin) + xbin\n",
        "        indexshift = xnbin\n",
        "    else:\n",
        "        xy = xbin*(ynbin) + ybin\n",
        "        indexshift = ynbin\n",
        "    xyuni, inverse, hstres = np.unique(xy, return_inverse=True, return_counts=True)\n",
        "    histmat = np.zeros((ynbin, xnbin))\n",
        "    histmat[np.unravel_index(xyuni-indexshift, histmat.shape)] = hstres\n",
        "    return histmat\n",
        " \n",
        "import matplotlib.pyplot as plt\n",
        " \n",
        "\n",
        "\n",
        "def dataGraph(sav, pbc, nRow, nTotal):\n",
        "    h = plt.figure(2)\n",
        "    h.clf()\n",
        "\n",
        "    QQ1 = sav['Q1'].T\n",
        "    QQ2 = sav['Q2'].T\n",
        "    Ndata = 100\n",
        "    xa = np.min(np.min(QQ1))\n",
        "    xb = np.max(np.max(QQ1))\n",
        "    ya = np.min(np.min(QQ2))\n",
        "    yb = np.max(np.max(QQ2))\n",
        "    xedges = np.linspace(xa, xb, Ndata)\n",
        "    yedges = np.linspace(ya, yb, Ndata)\n",
        "\n",
        "    minColorLimit = 0\n",
        "    maxColorLimit = 0\n",
        "    showTime = np.round(np.linspace(0, pbc['N']-1, nTotal)).astype(int)\n",
        "    gtN = len(showTime)\n",
        "    histMa = np.zeros((Ndata, Ndata, gtN))\n",
        "\n",
        "    for k in range(gtN):\n",
        "        i = showTime[k]  \n",
        "        # histmat, _, _ = binned_statistic_2d(QQ1[:, i-1], QQ2[:, i-1], None,\n",
        "        #                                     statistic='count', bins=[xedges, yedges])\n",
        "        histmat = hist2(QQ1[:,i], QQ2[:,i], xedges, yedges)\n",
        "        minColorLimit = min([np.min(np.min(histmat)), minColorLimit])\n",
        "        maxColorLimit = max([np.max(np.max(histmat)), maxColorLimit])\n",
        "        histMa[:, :, k] = histmat.T\n",
        "\n",
        "    nColumn = np.ceil(len(showTime) / nRow).astype(int)\n",
        "    fig, axs = plt.subplots(nrows=nRow, ncols=nColumn, figsize=(12, 6), sharex=True, sharey=True)\n",
        "    fig.subplots_adjust(hspace=0.4, wspace=0.4)\n",
        "    for k in range(len(showTime)): \n",
        "        im = axs.flat[k].imshow(histMa[:, :, k], extent=[xedges[0], xedges[-1], yedges[0], yedges[-1]], cmap='jet', origin='lower')#, vmin=limC[0], vmax=limC[1]) \n",
        "        t = round(showTime[k] * pbc['dt'] * 1e3) / 1e3\n",
        "        axs.flat[k].set_title(f\"t = {t}\", fontsize=12)\n",
        "        axs.flat[k].label_outer() \n",
        "    \n",
        "\n",
        "    fig.subplots_adjust(right=0.8)\n",
        "    cbar_ax = fig.add_axes([0.85, 0.15, 0.05, 0.7])\n",
        "    fig.colorbar(im, cax=cbar_ax, shrink=0.6) \n",
        "    plt.subplots_adjust(wspace=0.3, hspace=0.3)\n",
        "    plt.gcf().set_size_inches(8, 8)\n",
        "    plt.gcf().suptitle('2D Histograms', fontsize=14)\n",
        "    plt.gcf().text(0.5, 0.04, 'x1 - x2', ha='center', fontsize=12)\n",
        "    plt.gcf().text(0.06, 0.5, 'y1 - y2', va='center', rotation='vertical', fontsize=12)\n",
        "    plt.show()\n",
        "    plt.savefig(pbc['flow'] + '_Density_Primary_Box.png') "
      ],
      "metadata": {
        "id": "VbzEJBQ46Uk5"
      },
      "execution_count": 4,
      "outputs": []
    },
    {
      "cell_type": "code",
      "source": [
        "from os import pread\n",
        " \n",
        "\n",
        "def EmEulerian(X, pbc, param, Z):\n",
        "    # Update position\n",
        "    X['q'] = X['q'] + (X['p'] + pbc['A'] @ X['q']) * pbc['dt']\n",
        "    \n",
        "    # Compute force\n",
        "    X = ComputeForceEulerian(X, param, pbc)\n",
        "    # X = ComputeForceEulerianCell(X, param, pbc, Z) \n",
        "    # Update momentum\n",
        "    X['G'][:param['dim'], :nPart] = np.sqrt(2 * pbc['dt'] * param['gamma'] / param['beta']) * np.random.randn(param['dim'], param['nPart'])\n",
        " \n",
        "    X['p'] = X['p'] + X['f'] * pbc['dt'] - param['gamma'] * X['p'] * pbc['dt'] + X['G']\n",
        "    \n",
        "    # Remap position\n",
        "    X['q'], pbc = Remap_Eulerian_q(X['q'], pbc)\n",
        "    \n",
        "    return X, pbc\n"
      ],
      "metadata": {
        "id": "A0vb2kCh8uzN"
      },
      "execution_count": 5,
      "outputs": []
    },
    {
      "cell_type": "code",
      "execution_count": 6,
      "metadata": {
        "id": "fMFxUI8tMo0S"
      },
      "outputs": [],
      "source": [
        " \n",
        "def Remap_Eulerian_q( q, pbc): \n",
        "     \n",
        "    pbc['L'] = np.dot(  MyExp(pbc['Y']*pbc['theta']) , pbc['L0'])\n",
        "    pbc['Linv'] = np.dot( pbc['L0inv'], MyExp(-pbc['Y']*pbc['theta'])) \n",
        "    q = np.dot(pbc['L'], MyRound(np.dot(pbc['Linv'], q)))\n",
        "    return q, pbc\n",
        "\n",
        "\n",
        "def MyExp(M): \n",
        "    if len(M.shape) > 1:\n",
        "        f = expm(M)\n",
        "    else:\n",
        "        f = np.diag(np.exp(M))\n",
        "    return f\n",
        "\n",
        "def fLJ(rr, param):\n",
        "  if rr > param['rcut']:\n",
        "      p = 0.0\n",
        "  else:\n",
        "      p = 4 * param['eps'] * ((12 * param['sigm'] ** 6) / rr ** 7 - (12 * param['sigm'] ** 12) / rr ** 13)\n",
        "  return p\n",
        " \n",
        "   "
      ]
    },
    {
      "cell_type": "code",
      "source": [
        " \n",
        "def ComputeForceEulerian(X, param, pbc):\n",
        "    mm1 = 1\n",
        "    mm2 = 1 \n",
        "    X['f'][:param['dim'],:] = np.zeros((param['dim'], param['nPart']))\n",
        "    for i in range(param['nPart']-1):\n",
        "        for j in range(i+1, param['nPart']):\n",
        "            X['qDist'] = X['q'][:, i] - X['q'][:, j]\n",
        "            X['qDist'], _ = Remap_Eulerian_q(X['qDist'], pbc) \n",
        "            normqD = np.linalg.norm(X['qDist'])\n",
        "            ff = fLJ(normqD, param)\n",
        "            X['f'][:, i] = X['f'][:, i] - ff * X['qDist'] / normqD\n",
        "            X['f'][:, j] = X['f'][:, j] + ff * X['qDist'] / normqD\n",
        "            if mm1 < abs(ff):\n",
        "                mm1 = abs(ff)\n",
        "                mm2 = ff\n",
        "    \n",
        "    X['ff'] = mm2\n",
        "    return X\n"
      ],
      "metadata": {
        "id": "9p52pRxz_Ifm"
      },
      "execution_count": 7,
      "outputs": []
    },
    {
      "cell_type": "code",
      "source": [
        " \n",
        "\n",
        "def Simulation(X, pbc, param, list, sav, animation): \n",
        "\n",
        " \n",
        "  X = initializez(X, param, pbc)\n",
        "  X,pbc = EmEulerian(X,pbc,param,list)\n",
        "  tic = time.time()\n",
        "  # Run the simulation\n",
        "  igif = 1\n",
        "  for j in range(pbc['Nperiod']):\n",
        "      fmax = 1e-16\n",
        "      for i in range(pbc['N']):\n",
        "          # print(i,X['ff']  )\n",
        "          sav['Q1'][i, j] = X['qDist'][0] \n",
        "          sav['Q2'][i, j] = X['qDist'][1] \n",
        "          sav['F'][i, j] = X['ff'] \n",
        "          t = 1e-3 * round(1e3 * (i - 1) * pbc['dt'])  \n",
        "          X, pbc = EmEulerian(X, pbc, param, list)\n",
        "          pbc['theta1'] = pbc['theta'] + pbc['Sigma'] * pbc['dt']\n",
        "          pbc['theta'] = pbc['theta1'] - np.floor(pbc['theta1'])\n",
        "          pbc['n'] = pbc['n'] + pbc['theta'] - pbc['theta1']\n",
        "          if np.abs(fmax) < np.abs(X['ff']):\n",
        "              fmax = X['ff']\n",
        "      if np.mod(j, np.round(Nperiod / 10)) == 0:\n",
        "          time_ = time.time()\n",
        "          print(f\"Period {j} executed in {np.round(1000*(time_-tic)/60)/1000} min\")\n",
        "          print(fmax)\n",
        "  print('force : ',X['ff'])\n",
        "  return sav"
      ],
      "metadata": {
        "id": "PejzC1-C0BSL"
      },
      "execution_count": 8,
      "outputs": []
    },
    {
      "cell_type": "code",
      "source": [
        "\n",
        "np.random.seed(0)\n",
        "\n",
        "flow = 'eld'                     # choose the type of the flow (i.e 'eld', 'shear',  or 'pef') \n",
        "nPart = 2                         # Number of particles\n",
        "epsilon = 1.0                     # rate of the deformation of the background flow\n",
        "rcut = 30                         # radius cut\n",
        "animation = 11                    # 1 to activate the animation simulation box\n",
        "N = 500                          # number of steps in a period\n",
        "Nperiod = 1000                   # number of periods\n",
        "\n",
        "pbc, param, list, X, sav = Parameter(flow, epsilon, nPart, rcut, N, Nperiod)  # get the parameters\n",
        "\n",
        "sav = Simulation(X, pbc, param, list, sav, animation)"
      ],
      "metadata": {
        "colab": {
          "base_uri": "https://localhost:8080/"
        },
        "id": "fsQDwNpGY1b8",
        "outputId": "d15a360f-c6b4-4421-97e6-4a9d7395e98f"
      },
      "execution_count": 9,
      "outputs": [
        {
          "output_type": "stream",
          "name": "stdout",
          "text": [
            "Period 0 executed in 0.016 min\n",
            "2.6898811240841884\n",
            "Period 100 executed in 1.599 min\n",
            "-11.206806125636845\n",
            "Period 200 executed in 3.264 min\n",
            "-11.83571676053361\n",
            "Period 300 executed in 4.87 min\n",
            "-8.82244944222765\n",
            "Period 400 executed in 6.513 min\n",
            "-10.805039835548751\n",
            "Period 500 executed in 8.114 min\n",
            "-7.958582734504805\n",
            "Period 600 executed in 9.684 min\n",
            "-38.150656559178955\n",
            "Period 700 executed in 11.219 min\n",
            "-9.22832594040047\n",
            "Period 800 executed in 12.732 min\n",
            "-4.608973697914525\n",
            "Period 900 executed in 14.264 min\n",
            "-5.790419831890606\n",
            "force :  2.6057273556343694\n"
          ]
        }
      ]
    },
    {
      "cell_type": "code",
      "source": [
        " \n",
        "import matplotlib.pyplot as plt \n",
        "\n",
        "# Plot the force versus time\n",
        "plt.figure(1)\n",
        "plt.plot(sav['F'].ravel(), '.-k')\n",
        "plt.xlabel('time')\n",
        "plt.ylabel('Force')\n",
        "plt.grid(True)\n",
        "\n",
        "nTotal = 6       # Total number of subplot\n",
        "nRow = 2         # Number of row       \n",
        "\n",
        "# Plot the density of the simulation box \n",
        "tic = time.time()\n",
        "dataGraph(sav, pbc, nRow, nTotal)\n",
        "tt = (time.time() - tic) / 60\n",
        "print(f'Time of graph data = {tt} min')\n",
        " "
      ],
      "metadata": {
        "colab": {
          "base_uri": "https://localhost:8080/",
          "height": 889
        },
        "id": "7eKlAakS6djk",
        "outputId": "161ee960-918f-4b29-ef82-9b031c09f4d6"
      },
      "execution_count": 11,
      "outputs": [
        {
          "output_type": "display_data",
          "data": {
            "text/plain": [
              "<Figure size 432x288 with 1 Axes>"
            ],
            "image/png": "[encoded data removed]"
          },
          "metadata": {
            "needs_background": "light"
          }
        },
        {
          "output_type": "display_data",
          "data": {
            "text/plain": [
              "<Figure size 432x288 with 0 Axes>"
            ]
          },
          "metadata": {}
        },
        {
          "output_type": "display_data",
          "data": {
            "text/plain": [
              "<Figure size 576x576 with 7 Axes>"
            ],
            "image/png": "[encoded data removed]"
          },
          "metadata": {
            "needs_background": "light"
          }
        },
        {
          "output_type": "stream",
          "name": "stdout",
          "text": [
            "Time of graph data = 0.03815951744715373 min\n"
          ]
        },
        {
          "output_type": "display_data",
          "data": {
            "text/plain": [
              "<Figure size 432x288 with 0 Axes>"
            ]
          },
          "metadata": {}
        }
      ]
    }
  ]
}